{
  "nbformat": 4,
  "nbformat_minor": 0,
  "metadata": {
    "colab": {
      "provenance": [],
      "authorship_tag": "ABX9TyNor8gqVIpcOlDDpmOWfsXC",
      "include_colab_link": true
    },
    "kernelspec": {
      "name": "python3",
      "display_name": "Python 3"
    },
    "language_info": {
      "name": "python"
    }
  },
  "cells": [
    {
      "cell_type": "markdown",
      "metadata": {
        "id": "view-in-github",
        "colab_type": "text"
      },
      "source": [
        "<a href=\"https://colab.research.google.com/github/MagdalenaBra/Rekrutacja/blob/main/appPY_OXIDO.ipynb\" target=\"_parent\"><img src=\"https://colab.research.google.com/assets/colab-badge.svg\" alt=\"Open In Colab\"/></a>"
      ]
    },
    {
      "cell_type": "code",
      "execution_count": null,
      "metadata": {
        "id": "h4FooSyT5TLv"
      },
      "outputs": [],
      "source": []
    },
    {
      "cell_type": "code",
      "source": [
        "!pip install openai"
      ],
      "metadata": {
        "colab": {
          "base_uri": "https://localhost:8080/"
        },
        "id": "ioOKYPlY5aMa",
        "outputId": "31b74b8c-2c31-41fb-fc7c-39e351dd0545"
      },
      "execution_count": 52,
      "outputs": [
        {
          "output_type": "stream",
          "name": "stdout",
          "text": [
            "Requirement already satisfied: openai in /usr/local/lib/python3.10/dist-packages (0.28.0)\n",
            "Requirement already satisfied: requests>=2.20 in /usr/local/lib/python3.10/dist-packages (from openai) (2.32.3)\n",
            "Requirement already satisfied: tqdm in /usr/local/lib/python3.10/dist-packages (from openai) (4.66.6)\n",
            "Requirement already satisfied: aiohttp in /usr/local/lib/python3.10/dist-packages (from openai) (3.10.10)\n",
            "Requirement already satisfied: charset-normalizer<4,>=2 in /usr/local/lib/python3.10/dist-packages (from requests>=2.20->openai) (3.4.0)\n",
            "Requirement already satisfied: idna<4,>=2.5 in /usr/local/lib/python3.10/dist-packages (from requests>=2.20->openai) (3.10)\n",
            "Requirement already satisfied: urllib3<3,>=1.21.1 in /usr/local/lib/python3.10/dist-packages (from requests>=2.20->openai) (2.2.3)\n",
            "Requirement already satisfied: certifi>=2017.4.17 in /usr/local/lib/python3.10/dist-packages (from requests>=2.20->openai) (2024.8.30)\n",
            "Requirement already satisfied: aiohappyeyeballs>=2.3.0 in /usr/local/lib/python3.10/dist-packages (from aiohttp->openai) (2.4.3)\n",
            "Requirement already satisfied: aiosignal>=1.1.2 in /usr/local/lib/python3.10/dist-packages (from aiohttp->openai) (1.3.1)\n",
            "Requirement already satisfied: attrs>=17.3.0 in /usr/local/lib/python3.10/dist-packages (from aiohttp->openai) (24.2.0)\n",
            "Requirement already satisfied: frozenlist>=1.1.1 in /usr/local/lib/python3.10/dist-packages (from aiohttp->openai) (1.5.0)\n",
            "Requirement already satisfied: multidict<7.0,>=4.5 in /usr/local/lib/python3.10/dist-packages (from aiohttp->openai) (6.1.0)\n",
            "Requirement already satisfied: yarl<2.0,>=1.12.0 in /usr/local/lib/python3.10/dist-packages (from aiohttp->openai) (1.17.1)\n",
            "Requirement already satisfied: async-timeout<5.0,>=4.0 in /usr/local/lib/python3.10/dist-packages (from aiohttp->openai) (4.0.3)\n",
            "Requirement already satisfied: typing-extensions>=4.1.0 in /usr/local/lib/python3.10/dist-packages (from multidict<7.0,>=4.5->aiohttp->openai) (4.12.2)\n",
            "Requirement already satisfied: propcache>=0.2.0 in /usr/local/lib/python3.10/dist-packages (from yarl<2.0,>=1.12.0->aiohttp->openai) (0.2.0)\n"
          ]
        }
      ]
    },
    {
      "cell_type": "markdown",
      "source": [
        "app.py"
      ],
      "metadata": {
        "id": "9gGsJp3H5zMK"
      }
    },
    {
      "cell_type": "code",
      "source": [
        "import openai\n",
        "\n",
        "\n",
        "openai.api_key = \"MY-API-KEY\"\n",
        "\n"
      ],
      "metadata": {
        "id": "unGrbYIl5rE9"
      },
      "execution_count": null,
      "outputs": []
    },
    {
      "cell_type": "code",
      "source": [
        "try:\n",
        "    response = openai.Completion.create(\n",
        "        engine=\"text-davinci-003\",\n",
        "        prompt=\"Hello, world!\",\n",
        "        max_tokens=5\n",
        "    )\n",
        "    print(response)\n",
        "except openai.error.AuthenticationError as e:\n",
        "    print(f\"Authentication failed: {e}\")\n",
        "except Exception as e:\n",
        "    print(f\"Error occurred: {e}\")"
      ],
      "metadata": {
        "colab": {
          "base_uri": "https://localhost:8080/"
        },
        "id": "PTNXuuJIA4H2",
        "outputId": "8b916f71-da76-4ace-989c-a6b585fba0e1"
      },
      "execution_count": null,
      "outputs": [
        {
          "output_type": "stream",
          "name": "stdout",
          "text": [
            "Error occurred: The model `text-davinci-003` has been deprecated, learn more here: https://platform.openai.com/docs/deprecations\n"
          ]
        }
      ]
    },
    {
      "cell_type": "code",
      "source": [
        "#Funkcja generująca kod HTML\n",
        "def generate_html(article_text, prompt):\n",
        "    # Wysyłanie zapytania do API OpenAI\n",
        "    response = openai.ChatCompletion.create(\n",
        "        model=\"gpt-3.5-turbo\",  # Użycie modelu GPT-3.5\n",
        "        messages=[\n",
        "            {\"role\": \"system\", \"content\": \"You are an HTML generator.\"},  # Definicja roli\n",
        "            {\"role\": \"user\", \"content\": f\"{prompt}\\n\\n{article_text}\"}  # Artykuł jako użytkownik\n",
        "        ]\n",
        "    )\n",
        "    return response['choices'][0]['message']['content']\n"
      ],
      "metadata": {
        "id": "-a49Phbt6BnW"
      },
      "execution_count": null,
      "outputs": []
    },
    {
      "cell_type": "code",
      "source": [
        "# Wczytanie artykułu z pliku 'artykul.txt'\n",
        "def load_article_from_file(file_path):\n",
        "    with open(file_path, 'r', encoding='utf-8') as file:\n",
        "        article_text = file.read()\n",
        "    return article_text"
      ],
      "metadata": {
        "id": "7p2r6Bzi92df"
      },
      "execution_count": 53,
      "outputs": []
    },
    {
      "cell_type": "code",
      "source": [
        "# Prompt do generowania HTML\n",
        "html_prompt = \"\"\"\n",
        "Przekształć poniższy artykuł w strukturalny kod HTML.\n",
        "Dodaj odpowiednie tagi <h1>, <h2>, <p> oraz inne strukturalne tagi HTML.\n",
        "Zidentyfikuj miejsca, w których można dodać grafiki i oznacz je tagiem <img> z atrybutem alt, który zawiera prompt do wygenerowania grafiki.\n",
        "\"\"\""
      ],
      "metadata": {
        "id": "fqG0tJPC5-Ol"
      },
      "execution_count": null,
      "outputs": []
    },
    {
      "cell_type": "code",
      "source": [
        "# Odczyt treści artykułu z pliku\n",
        "article_text = load_article_from_file('artykul.txt')"
      ],
      "metadata": {
        "id": "HX4ip0Dr578E"
      },
      "execution_count": null,
      "outputs": []
    },
    {
      "cell_type": "code",
      "source": [
        "# Generowanie HTML na podstawie artykułu\n",
        "html_content = generate_html(article_text, html_prompt)"
      ],
      "metadata": {
        "id": "VCiJr5JefuBs"
      },
      "execution_count": null,
      "outputs": []
    },
    {
      "cell_type": "code",
      "source": [
        "# Zapis wygenerowanego HTML do pliku podglad\n",
        "with open('podglad.html', 'w', encoding='utf-8') as html_file:\n",
        "    html_file.write(html_content)"
      ],
      "metadata": {
        "id": "BMO0MmvlayGD"
      },
      "execution_count": null,
      "outputs": []
    },
    {
      "cell_type": "code",
      "source": [
        "print(\"HTML został zapisany do pliku 'podglad.html'.\")"
      ],
      "metadata": {
        "id": "65sIvSrp-Vak",
        "colab": {
          "base_uri": "https://localhost:8080/"
        },
        "outputId": "ccb6bc01-271d-47f0-8d09-576bb909db67"
      },
      "execution_count": 55,
      "outputs": [
        {
          "output_type": "stream",
          "name": "stdout",
          "text": [
            "HTML został zapisany do pliku 'podglad.html'.\n"
          ]
        }
      ]
    },
    {
      "cell_type": "code",
      "source": [
        "print(\"Wygenerowano plik artykul.html.\")"
      ],
      "metadata": {
        "id": "fzxAD_xK5rVj"
      },
      "execution_count": null,
      "outputs": []
    },
    {
      "cell_type": "markdown",
      "source": [
        "szablon html i podglad html"
      ],
      "metadata": {
        "id": "moyybAJS6FTh"
      }
    },
    {
      "cell_type": "code",
      "source": [
        "from jinja2 import Template\n",
        "\n",
        "# Wczytanie artykułu z pliku\n",
        "with open('artykul.txt', 'r', encoding='utf-8') as file:\n",
        "    article_text = file.read()\n",
        "\n",
        "# Szablon HTML (Jinja2) z uwzględnieniem obrazów i podpisów\n",
        "empty_template = \"\"\"\n",
        "<!DOCTYPE html>\n",
        "<html lang=\"pl\">\n",
        "<head>\n",
        "    <meta charset=\"UTF-8\">\n",
        "    <meta name=\"viewport\" content=\"width=device-width, initial-scale=1.0\">\n",
        "    <title>Szablon Artykułu</title>\n",
        "    <style>\n",
        "        /* Prosty CSS do wyświetlania treści */\n",
        "        body {\n",
        "            font-family: Arial, sans-serif;\n",
        "            line-height: 1.6;\n",
        "            margin: 0;\n",
        "            padding: 0;\n",
        "            background-color: #f4f4f4;\n",
        "        }\n",
        "        .content {\n",
        "            padding: 20px;\n",
        "            background-color: #fff;\n",
        "            margin: 20px auto;\n",
        "            width: 80%;\n",
        "            box-shadow: 0 0 10px rgba(0, 0, 0, 0.1);\n",
        "        }\n",
        "        h1 {\n",
        "            color: #333;\n",
        "        }\n",
        "        img {\n",
        "            width: 100%;\n",
        "            height: auto;\n",
        "            display: block;\n",
        "            margin: 10px 0;\n",
        "        }\n",
        "        .images {\n",
        "            margin-top: 20px;\n",
        "        }\n",
        "        .image {\n",
        "            margin-bottom: 20px;\n",
        "        }\n",
        "        p {\n",
        "            color: #666;\n",
        "        }\n",
        "    </style>\n",
        "</head>\n",
        "<body>\n",
        "    <div class=\"content\">\n",
        "        <h1>Wklej artykuł tutaj</h1>\n",
        "        <!-- Pusty kontener na artykuł -->\n",
        "    </div>\n",
        "</body>\n",
        "</html>\n",
        "\"\"\"\n",
        "\n",
        "# Przykładowe dane do wstawienia (możesz zastąpić je własnymi danymi)\n",
        "images = [\n",
        "    {\n",
        "        'src': 'image_placeholder_1.jpg',\n",
        "        'alt': 'Wygeneruj obrazek z krajobrazem z górskimi szczytami',\n",
        "        'caption': 'Obrazek przedstawiający majestatyczne góry'\n",
        "    },\n",
        "    {\n",
        "        'src': 'image_placeholder_2.jpg',\n",
        "        'alt': 'Wygeneruj obrazek z plażą na zachodzie słońca',\n",
        "        'caption': 'Piękna plaża podczas zachodu słońca'\n",
        "    }\n",
        "]\n",
        "\n",
        "# Tworzenie obiektu Template\n",
        "template = Template(html_template)\n",
        "\n",
        "# Generowanie HTML z artykułem i miejscami na obrazy\n",
        "html_content = template.render(article_text=article_text.replace(\"\\n\", \"<br>\"), images=images)\n",
        "\n",
        "# Zapisanie wygenerowanego HTML do pliku\n",
        "with open('artykul.html', 'w', encoding='utf-8') as file:\n",
        "    file.write(html_content)\n",
        "\n",
        "print(\"Plik artykul.html został wygenerowany.\")\n"
      ],
      "metadata": {
        "id": "pMGCKlZqgEsv"
      },
      "execution_count": null,
      "outputs": []
    },
    {
      "cell_type": "code",
      "source": [
        "from jinja2 import Template\n",
        "\n",
        "# Wczytanie artykułu z pliku\n",
        "with open('artykul.txt', 'r', encoding='utf-8') as file:\n",
        "    article_text = file.read()\n",
        "\n",
        "# Podzielmy tekst artykułu na linie\n",
        "lines = article_text.split(\"\\n\")\n",
        "\n",
        "# Pierwsza linia będzie tytułem artykułu\n",
        "article_title = lines[0].strip()\n",
        "\n",
        "# Reszta tekstu to treść artykułu\n",
        "article_body = \"\\n\".join(lines[1:]).strip()\n",
        "\n",
        "# Szablon HTML (pusty, gotowy na wklejenie artykułu)\n",
        "html_template = \"\"\"\n",
        "<!DOCTYPE html>\n",
        "<html lang=\"pl\">\n",
        "<head>\n",
        "    <meta charset=\"UTF-8\">\n",
        "    <meta name=\"viewport\" content=\"width=device-width, initial-scale=1.0\">\n",
        "    <title>Podgląd Artykułu</title>\n",
        "    <style>\n",
        "        /* Tło nawiązujące do sztucznej inteligencji */\n",
        "        body {\n",
        "            font-family: 'Georgia', serif;\n",
        "            background: linear-gradient(135deg, rgba(0, 255, 255, 0.8), rgba(0, 0, 128, 0.8)),\n",
        "                        url('https://example.com/ai-background.jpg') no-repeat center center fixed;\n",
        "            background-size: cover;\n",
        "            margin: 0;\n",
        "            padding: 0;\n",
        "            display: flex;\n",
        "            justify-content: center;\n",
        "            align-items: center;\n",
        "            min-height: 100vh;\n",
        "            color: #333; /* Ciemnoszary kolor tekstu */\n",
        "            text-shadow: 1px 1px 3px rgba(0, 0, 0, 0.4); /* Subtelny cień */\n",
        "        }\n",
        "\n",
        "        /* Styl dla kontenera artykułu */\n",
        "        .container {\n",
        "            width: 80%;\n",
        "            max-width: 960px;\n",
        "            background-color: rgba(255, 255, 255, 0.9); /* Przezroczyste tło */\n",
        "            padding: 30px;\n",
        "            margin: 20px;\n",
        "            border-radius: 8px;\n",
        "            box-shadow: 0 4px 12px rgba(0, 0, 0, 0.2);\n",
        "            backdrop-filter: blur(8px);\n",
        "            transition: transform 0.3s ease, box-shadow 0.3s ease;\n",
        "        }\n",
        "\n",
        "        /* Efekt powiększenia kontenera */\n",
        "        .container:hover {\n",
        "            transform: translateY(-8px);\n",
        "            box-shadow: 0 20px 30px rgba(0, 0, 0, 0.15);\n",
        "        }\n",
        "\n",
        "        h1 {\n",
        "            font-size: 2.2rem;\n",
        "            text-align: center;\n",
        "            margin-bottom: 20px;\n",
        "            text-transform: uppercase;\n",
        "            letter-spacing: 1px;\n",
        "            color: #6a3d3d; /* Delikatny ciemnoczerwony */\n",
        "        }\n",
        "\n",
        "        p {\n",
        "            color: #555; /* Bardziej stonowany szary */\n",
        "            font-size: 1.2rem;\n",
        "            line-height: 1.8;\n",
        "            margin-bottom: 25px;\n",
        "            text-align: justify; /* Wyjustowanie tekstu */\n",
        "        }\n",
        "\n",
        "        /* Zmieniony kolor tekstu na ciemnoszary z mniejszym kontrastem */\n",
        "        .article-content {\n",
        "            color: #444; /* Ciemniejszy szary */\n",
        "            font-size: 1.15rem;\n",
        "            line-height: 1.7;\n",
        "            text-align: justify; /* Wyjustowanie tekstu artykułu */\n",
        "        }\n",
        "\n",
        "        img {\n",
        "            width: 100%;\n",
        "            height: auto;\n",
        "            border-radius: 8px;\n",
        "            margin: 20px 0;\n",
        "            box-shadow: 0 4px 12px rgba(0, 0, 0, 0.15);\n",
        "            transition: transform 0.3s ease;\n",
        "        }\n",
        "\n",
        "        /* Efekt na obrazkach */\n",
        "        img:hover {\n",
        "            transform: scale(1.05);\n",
        "        }\n",
        "\n",
        "        .image-caption {\n",
        "            text-align: center;\n",
        "            font-size: 1rem;\n",
        "            color: #888;\n",
        "            margin-bottom: 30px;\n",
        "        }\n",
        "\n",
        "        /* Dodanie subtelnych animacji */\n",
        "        .article-content {\n",
        "            opacity: 0;\n",
        "            animation: fadeIn 2s forwards;\n",
        "        }\n",
        "\n",
        "        /* Animacja pojawiania się artykułu */\n",
        "        @keyframes fadeIn {\n",
        "            from {\n",
        "                opacity: 0;\n",
        "            }\n",
        "            to {\n",
        "                opacity: 1;\n",
        "            }\n",
        "        }\n",
        "\n",
        "        /* Dodatkowe efekty w tle */\n",
        "        .background-effect {\n",
        "            position: absolute;\n",
        "            top: 0;\n",
        "            left: 0;\n",
        "            width: 100%;\n",
        "            height: 100%;\n",
        "            background: url('https://example.com/ai-pattern.jpg') repeat;\n",
        "            opacity: 0.2;\n",
        "            pointer-events: none;\n",
        "            z-index: -1;\n",
        "            animation: moveBackground 12s linear infinite;\n",
        "        }\n",
        "\n",
        "        /* Ruchome tło */\n",
        "        @keyframes moveBackground {\n",
        "            0% {\n",
        "                background-position: 0 0;\n",
        "            }\n",
        "            100% {\n",
        "                background-position: 100% 100%;\n",
        "            }\n",
        "        }\n",
        "    </style>\n",
        "</head>\n",
        "<body>\n",
        "\n",
        "    <!-- Ruchome tło AI -->\n",
        "    <div class=\"background-effect\"></div>\n",
        "\n",
        "    <div class=\"container\">\n",
        "        <h1>{{ article_title }}</h1>\n",
        "        <div class=\"article-content\">\n",
        "            {{ article_body | safe }}\n",
        "        </div>\n",
        "    </div>\n",
        "\n",
        "</body>\n",
        "</html>\n",
        "\"\"\"\n",
        "\n",
        "# Przykład danych artykułu (np. wstawienie placeholderów obrazków)\n",
        "article_body = article_body.replace(\"\\n\", \"<br>\")  # Zamiana nowych linii na <br>\n",
        "article_body += \"\"\"\n",
        "<p><img src=\"image_placeholder_1.jpg\" alt=\"Generuj obrazek przedstawiający pejzaż górski\" /></p>\n",
        "<p class=\"image-caption\"><strong>Opis obrazka:</strong> Pejzaż górski z zielonymi wzgórzami i ośnieżonymi szczytami.</p>\n",
        "<p><img src=\"image_placeholder_2.jpg\" alt=\"Generuj obrazek przedstawiający zachód słońca nad morzem\" /></p>\n",
        "<p class=\"image-caption\"><strong>Opis obrazka:</strong> Zachód słońca nad spokojnym morzem, z widokiem na plażę.</p>\n",
        "\"\"\"\n",
        "\n",
        "# Zapisanie pustego szablonu HTML (szablon.html)\n",
        "with open('/content/szablon.html', 'w', encoding='utf-8') as file:\n",
        "    file.write(html_template)\n",
        "\n",
        "# Generowanie podglądu artykułu (podglad.html)\n",
        "template = Template(html_template)\n",
        "html_preview = template.render(article_title=article_title, article_body=article_body)\n",
        "\n",
        "# Zapisanie pełnego podglądu artykułu (podglad.html)\n",
        "with open('/content/podglad.html', 'w', encoding='utf-8') as file:\n",
        "    file.write(html_preview)\n",
        "\n",
        "print(\"Pliki 'szablon.html' i 'podglad.html' zostały wygenerowane.\")"
      ],
      "metadata": {
        "id": "1V0p-hOaZwAU"
      },
      "execution_count": null,
      "outputs": []
    },
    {
      "cell_type": "code",
      "source": [],
      "metadata": {
        "id": "CLJWJ13m5raz"
      },
      "execution_count": null,
      "outputs": []
    }
  ]
}